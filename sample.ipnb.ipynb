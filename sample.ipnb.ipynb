{
 "cells": [
  {
   "cell_type": "code",
   "execution_count": 2,
   "metadata": {
    "collapsed": true
   },
   "outputs": [],
   "source": [
    "import pandas as pd\n",
    "import numpy as np"
   ]
  },
  {
   "cell_type": "code",
   "execution_count": 4,
   "outputs": [],
   "source": [
    "def iou(bbox1, bbox2):\n",
    "    '''\n",
    "    :param bbox1:\n",
    "    :param bbox2:\n",
    "    :return:\n",
    "    '''\n",
    "    x_left = max(bbox1[0], bbox2[0])\n",
    "    y_left = max(bbox1[1], bbox2[1])\n",
    "    x_right = min(bbox1[2], bbox2[2])\n",
    "    y_right = min(bbox1[3], bbox2[3])\n",
    "    if x_right < x_left or y_right < y_left:\n",
    "        return 0\n",
    "    intersection = (x_right - x_left) * (y_right - y_left)\n",
    "    union = ((bbox1[2]-bbox1[0]) * ((bbox1[3]-bbox1[1])) + ((bbox2[2]-bbox2[0]) * ((bbox2[3]-bbox2[1])) - intersection))\n",
    "    return intersection / union"
   ],
   "metadata": {
    "collapsed": false,
    "pycharm": {
     "name": "#%%\n"
    }
   }
  },
  {
   "cell_type": "code",
   "execution_count": null,
   "outputs": [],
   "source": [],
   "metadata": {
    "collapsed": false,
    "pycharm": {
     "name": "#%%\n"
    }
   }
  }
 ],
 "metadata": {
  "kernelspec": {
   "display_name": "Python 3",
   "language": "python",
   "name": "python3"
  },
  "language_info": {
   "codemirror_mode": {
    "name": "ipython",
    "version": 2
   },
   "file_extension": ".py",
   "mimetype": "text/x-python",
   "name": "python",
   "nbconvert_exporter": "python",
   "pygments_lexer": "ipython2",
   "version": "2.7.6"
  }
 },
 "nbformat": 4,
 "nbformat_minor": 0
}